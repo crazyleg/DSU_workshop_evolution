{
 "cells": [
  {
   "cell_type": "code",
   "execution_count": 1,
   "metadata": {},
   "outputs": [],
   "source": [
    "import random, os\n",
    "import numpy as np\n",
    "import pandas as pd\n",
    "from functools import reduce\n",
    "import seaborn as sns\n",
    "from sklearn import datasets\n",
    "from sklearn.ensemble import RandomForestRegressor, RandomForestClassifier\n",
    "from sklearn import model_selection\n",
    "from sklearn.neighbors import KNeighborsRegressor\n",
    "from sklearn.metrics import mean_absolute_error\n",
    "from tqdm import tqdm"
   ]
  },
  {
   "cell_type": "code",
   "execution_count": 2,
   "metadata": {},
   "outputs": [
    {
     "name": "stderr",
     "output_type": "stream",
     "text": [
      "/Users/oleksandrsavsunenko/anaconda3/envs/data/lib/python3.6/site-packages/deap/tools/_hypervolume/pyhv.py:33: ImportWarning: Falling back to the python version of hypervolume module. Expect this to be very slow.\n",
      "  \"module. Expect this to be very slow.\", ImportWarning)\n"
     ]
    }
   ],
   "source": [
    "from deap import base\n",
    "from deap import creator\n",
    "from deap import tools\n",
    "from deap import algorithms"
   ]
  },
  {
   "cell_type": "code",
   "execution_count": 3,
   "metadata": {},
   "outputs": [
    {
     "name": "stderr",
     "output_type": "stream",
     "text": [
      "/Users/oleksandrsavsunenko/anaconda3/envs/data/lib/python3.6/importlib/_bootstrap.py:219: ImportWarning: can't resolve package from __spec__ or __package__, falling back on __name__ and __path__\n",
      "  return f(*args, **kwds)\n"
     ]
    }
   ],
   "source": [
    "from fastai.imports import *\n",
    "from fastai.structured import *"
   ]
  },
  {
   "cell_type": "code",
   "execution_count": 4,
   "metadata": {},
   "outputs": [],
   "source": [
    "df_raw = pd.read_feather('tmp/bulldozers-raw')\n",
    "df_raw.SalePrice = np.log(df_raw.SalePrice)\n",
    "df, y, nas = proc_df(df_raw, 'SalePrice')\n",
    "X_train, X_test, y_train, y_test = model_selection.train_test_split(\n",
    "    df, y, test_size=0.99, random_state=0)"
   ]
  },
  {
   "cell_type": "code",
   "execution_count": 5,
   "metadata": {},
   "outputs": [],
   "source": [
    "params_default = {\n",
    "         'n_estimators': list(range(10,100,50)),\n",
    "         'max_depth': [None, 3, 5, 10],\n",
    "         'min_samples_split': [2, 4, 6, 8],\n",
    "         'max_features': [0.2, 0.5, 0.8 , 1]}"
   ]
  },
  {
   "cell_type": "code",
   "execution_count": 6,
   "metadata": {},
   "outputs": [],
   "source": [
    "def get_random(individual='q', params=params_default):\n",
    "    ind = individual()\n",
    "    for key in params.keys():\n",
    "        ind[key]=(random.choice(params[key]))\n",
    "    return ind"
   ]
  },
  {
   "cell_type": "code",
   "execution_count": 7,
   "metadata": {},
   "outputs": [],
   "source": [
    "def evalOneMax(individual):\n",
    "    clf = RandomForestRegressor(**individual, n_jobs=8)\n",
    "    clf.fit(X_train, y_train)\n",
    "    return clf.score(X_test, y_test),"
   ]
  },
  {
   "cell_type": "code",
   "execution_count": 8,
   "metadata": {},
   "outputs": [],
   "source": [
    "IND_SIZE = 5\n",
    "\n",
    "creator.create(\"FitnessMin\", base.Fitness, weights=(-1.0,))\n",
    "creator.create(\"Individual\", dict, fitness=creator.FitnessMin)\n",
    "toolbox = base.Toolbox()\n",
    "\n",
    "toolbox.register(\"Individual\", get_random, creator.Individual, params_default)\n",
    "toolbox.register(\"population\", tools.initRepeat, list, toolbox.Individual)"
   ]
  },
  {
   "cell_type": "code",
   "execution_count": 9,
   "metadata": {},
   "outputs": [],
   "source": [
    "pop = toolbox.population(n=20)"
   ]
  },
  {
   "cell_type": "code",
   "execution_count": 10,
   "metadata": {},
   "outputs": [],
   "source": [
    "def mutate_params(individual, indpb):\n",
    "    for key in params_default.keys():\n",
    "        if random.random()<0.5:\n",
    "            individual[key]=(random.choice(params_default[key]))\n",
    "    return individual,\n",
    "\n",
    "def mate_individuals(ind1, ind2):\n",
    "    for key in params_default.keys():\n",
    "        if random.random()<0.5:\n",
    "            ind1[key] = ind1[key]\n",
    "            ind2[key] = ind2[key]\n",
    "        else:\n",
    "            ind1[key] = ind2[key]\n",
    "            ind2[key] = ind1[key]\n",
    "    return (ind1, ind2)"
   ]
  },
  {
   "cell_type": "code",
   "execution_count": 11,
   "metadata": {},
   "outputs": [],
   "source": [
    "toolbox.register(\"evaluate\", evalOneMax)\n",
    "toolbox.register(\"mate\", mate_individuals)\n",
    "toolbox.register(\"mutate\", mutate_params, indpb=0.5)\n",
    "toolbox.register(\"select\", tools.selTournament, tournsize=3)"
   ]
  },
  {
   "cell_type": "code",
   "execution_count": 12,
   "metadata": {},
   "outputs": [],
   "source": [
    "fitnesses = list(map(toolbox.evaluate, pop))\n",
    "for ind, fit in zip(pop, fitnesses):\n",
    "    ind.fitness.values = fit"
   ]
  },
  {
   "cell_type": "code",
   "execution_count": 13,
   "metadata": {},
   "outputs": [
    {
     "name": "stdout",
     "output_type": "stream",
     "text": [
      "gen\tnevals\tavg     \tstd     \tmin     \tmax     \n",
      "0  \t0     \t0.605723\t0.134321\t0.420942\t0.808843\n",
      "1  \t16    \t0.481651\t0.10333 \t0.351042\t0.74581 \n",
      "2  \t9     \t0.416402\t0.0471809\t0.270102\t0.464577\n",
      "3  \t9     \t0.382422\t0.119121 \t0.144942\t0.787272\n",
      "4  \t13    \t0.356949\t0.0909149\t0.144942\t0.612405\n",
      "5  \t8     \t0.289642\t0.065792 \t0.144942\t0.37269 \n"
     ]
    }
   ],
   "source": [
    "hof = tools.HallOfFame(1)\n",
    "stats = tools.Statistics(lambda ind: ind.fitness.values)\n",
    "stats.register(\"avg\", np.mean)\n",
    "stats.register(\"std\", np.std)\n",
    "stats.register(\"min\", np.min)\n",
    "stats.register(\"max\", np.max)\n",
    "    \n",
    "pop, log = algorithms.eaSimple(pop, toolbox, cxpb=0.5, mutpb=0.1, ngen=5, \n",
    "                                   stats=stats, halloffame=hof, verbose=True)"
   ]
  },
  {
   "cell_type": "code",
   "execution_count": null,
   "metadata": {},
   "outputs": [
    {
     "name": "stdout",
     "output_type": "stream",
     "text": [
      "  0%|          | 0/100 [00:00<?, ?it/s]gen\tnevals\tavg     \tstd     \tmin     \tmax    \n",
      "0  \t5     \t0.635818\t0.160567\t0.352706\t0.78898\n",
      "1  \t2     \t0.589098\t0.121944\t0.352706\t0.675251\n",
      "2  \t2     \t0.438723\t0.123163\t0.311368\t0.590847\n",
      "3  \t1     \t0.341844\t0.0160449\t0.311368\t0.352706\n",
      "4  \t0     \t0.325308\t0.0175592\t0.311368\t0.352706\n",
      "5  \t2     \t0.327484\t0.0198628\t0.311368\t0.355184\n",
      "6  \t4     \t0.38608 \t0.104263 \t0.311368\t0.592583\n",
      "7  \t0     \t0.333364\t0.0109979\t0.311368\t0.338863\n",
      "8  \t0     \t0.327865\t0.0134697\t0.311368\t0.338863\n",
      "9  \t1     \t0.319719\t0.0110508\t0.311368\t0.338863\n",
      "10 \t3     \t0.337055\t0.0284584\t0.311368\t0.379462\n",
      "11 \t0     \t0.321624\t0.0205115\t0.311368\t0.362647\n",
      "12 \t0     \t0.321624\t0.0205115\t0.311368\t0.362647\n",
      "13 \t1     \t0.35431 \t0.0858833\t0.311368\t0.526077\n",
      "14 \t1     \t0.318707\t0.0146766\t0.311368\t0.34806 \n",
      "15 \t2     \t0.320196\t0.0132113\t0.311368\t0.345443\n",
      "16 \t0     \t0.311368\t0        \t0.311368\t0.311368\n",
      "17 \t2     \t0.320607\t0.0122462\t0.311368\t0.341872\n",
      "18 \t0     \t0.311368\t0        \t0.311368\t0.311368\n",
      "19 \t0     \t0.311368\t0        \t0.311368\t0.311368\n",
      "20 \t0     \t0.311368\t0        \t0.311368\t0.311368\n",
      "21 \t2     \t0.319312\t0.0105074\t0.311368\t0.337502\n",
      "22 \t0     \t0.314086\t0.00543462\t0.311368\t0.324955\n",
      "23 \t0     \t0.311368\t0         \t0.311368\t0.311368\n",
      "24 \t0     \t0.311368\t0         \t0.311368\t0.311368\n",
      "25 \t1     \t0.315399\t0.00806159\t0.311368\t0.331522\n",
      "26 \t1     \t0.374449\t0.126162  \t0.311368\t0.626774\n",
      "27 \t2     \t0.37203 \t0.105895  \t0.311368\t0.582333\n",
      "28 \t0     \t0.311368\t0         \t0.311368\t0.311368\n",
      "29 \t4     \t0.330475\t0.0113835 \t0.311368\t0.342306\n",
      "30 \t1     \t0.322172\t0.00889987\t0.311368\t0.337045\n",
      "31 \t3     \t0.326891\t0.0109958 \t0.311368\t0.345679\n",
      "32 \t2     \t0.327917\t0.0111458 \t0.311368\t0.341871\n",
      "33 \t1     \t0.325561\t0.0169141 \t0.311368\t0.357517\n",
      "34 \t0     \t0.311368\t0         \t0.311368\t0.311368\n",
      "35 \t0     \t0.311368\t0         \t0.311368\t0.311368\n",
      "36 \t0     \t0.311368\t0         \t0.311368\t0.311368\n",
      "37 \t1     \t0.310894\t0.000949327\t0.308995\t0.311368\n",
      "38 \t1     \t0.31512 \t0.00993245 \t0.308995\t0.334871\n",
      "39 \t0     \t0.310894\t0.000949327\t0.308995\t0.311368\n",
      "40 \t3     \t0.386437\t0.118486   \t0.311368\t0.621401\n",
      "41 \t2     \t0.328568\t0.0156789  \t0.311368\t0.352431\n",
      "42 \t2     \t0.324546\t0.0108898  \t0.311368\t0.336342\n",
      "43 \t2     \t0.324762\t0.0117094  \t0.311368\t0.341164\n",
      "44 \t2     \t0.320199\t0.0109947  \t0.311368\t0.336573\n",
      "45 \t0     \t0.315158\t0.00757922 \t0.311368\t0.330316\n",
      "46 \t3     \t0.386887\t0.111463   \t0.311368\t0.606556\n",
      "47 \t0     \t0.337536\t0.0220084  \t0.311368\t0.359801\n",
      "48 \t2     \t0.32382 \t0.0152616  \t0.311368\t0.343448\n",
      "49 \t1     \t0.367873\t0.113008   \t0.311368\t0.593889\n",
      "50 \t1     \t0.304736\t0.0132654  \t0.278205\t0.311368\n",
      "51 \t0     \t0.298103\t0.0162467  \t0.278205\t0.311368\n",
      "52 \t0     \t0.29147 \t0.0162467  \t0.278205\t0.311368\n",
      "53 \t0     \t0.278205\t0          \t0.278205\t0.278205\n",
      "54 \t1     \t0.276955\t0.00249998 \t0.271955\t0.278205\n",
      "55 \t0     \t0.275705\t0.00306183 \t0.271955\t0.278205\n",
      "56 \t1     \t0.286892\t0.0298735  \t0.271955\t0.346639\n",
      "57 \t0     \t0.286892\t0.0298735  \t0.271955\t0.346639\n",
      "58 \t4     \t0.309129\t0.0261059  \t0.271955\t0.349901\n",
      "59 \t0     \t0.279207\t0.0145042  \t0.271955\t0.308216\n",
      "60 \t0     \t0.271955\t0          \t0.271955\t0.271955\n",
      "61 \t0     \t0.271955\t0          \t0.271955\t0.271955\n",
      "62 \t2     \t0.338271\t0.0940994  \t0.271955\t0.512878\n",
      "63 \t0     \t0.271955\t0          \t0.271955\t0.271955\n",
      "64 \t1     \t0.289308\t0.0347053  \t0.271955\t0.358718\n",
      "65 \t0     \t0.271955\t0          \t0.271955\t0.271955\n",
      "66 \t2     \t0.296675\t0.0305143  \t0.271955\t0.339774\n",
      "67 \t2     \t0.280695\t0.0424215  \t0.2289  \t0.358708\n",
      "68 \t1     \t0.288997\t0.0795063  \t0.2289  \t0.443276\n",
      "69 \t0     \t0.237511\t0.0172221  \t0.2289  \t0.271955\n",
      "70 \t0     \t0.2289  \t0          \t0.2289  \t0.2289  \n",
      "71 \t1     \t0.226154\t0.0054925  \t0.215169\t0.2289  \n",
      "72 \t0     \t0.220661\t0.00672691 \t0.215169\t0.2289  \n",
      "73 \t4     \t0.380788\t0.150295   \t0.203552\t0.594077\n",
      "74 \t2     \t0.254449\t0.101021   \t0.192793\t0.455937\n",
      "75 \t1     \t0.195711\t0.00688382 \t0.185865\t0.203552\n",
      "76 \t0     \t0.190022\t0.0033942  \t0.185865\t0.192793\n",
      "77 \t4     \t0.21168 \t0.0203348  \t0.185865\t0.242874\n",
      "78 \t0     \t0.189055\t0.00390682 \t0.185865\t0.193839\n",
      "79 \t1     \t0.195441\t0.0191519  \t0.185865\t0.233744\n",
      "80 \t0     \t0.185865\t0          \t0.185865\t0.185865\n",
      "81 \t0     \t0.185865\t0          \t0.185865\t0.185865\n",
      "82 \t3     \t0.322185\t0.232183   \t0.185865\t0.78504 \n",
      "83 \t2     \t0.200609\t0.030107   \t0.184634\t0.260815\n",
      "84 \t0     \t0.185373\t0.000602829\t0.184634\t0.185865\n",
      "85 \t0     \t0.184634\t0          \t0.184634\t0.184634\n",
      "86 \t2     \t0.278118\t0.171182   \t0.184634\t0.619556\n",
      "87 \t1     \t0.265104\t0.160939   \t0.184634\t0.586981\n",
      "88 \t1     \t0.235956\t0.102643   \t0.184634\t0.441241\n",
      "89 \t0     \t0.184634\t0          \t0.184634\t0.184634\n",
      "90 \t2     \t0.19834 \t0.017578   \t0.184634\t0.227147\n",
      "91 \t2     \t0.197925\t0.0183913  \t0.184634\t0.231396\n",
      "92 \t3     \t0.27294 \t0.162124   \t0.163713\t0.593403\n",
      "93 \t4     \t0.269078\t0.169366   \t0.153407\t0.606014\n",
      "94 \t2     \t0.373884\t0.188552   \t0.153407\t0.606014\n",
      "95 \t1     \t0.164202\t0.0215887  \t0.153407\t0.207379\n",
      "96 \t0     \t0.153407\t0          \t0.153407\t0.153407\n",
      "97 \t0     \t0.153407\t0          \t0.153407\t0.153407\n",
      "98 \t2     \t0.195168\t0.0552272  \t0.153407\t0.290754\n",
      "99 \t2     \t0.191145\t0.0334784  \t0.153407\t0.231351\n",
      "100\t0     \t0.153407\t0          \t0.153407\t0.153407\n",
      "  1%|          | 1/100 [03:48<6:17:01, 228.50s/it]gen\tnevals\tavg     \tstd     \tmin     \tmax     \n",
      "0  \t5     \t0.625164\t0.117027\t0.440597\t0.753998\n",
      "1  \t3     \t0.577246\t0.124682\t0.440597\t0.78099 \n",
      "2  \t2     \t0.473679\t0.0473505\t0.440597\t0.567384\n",
      "3  \t3     \t0.39801 \t0.109851 \t0.178453\t0.455589\n",
      "4  \t0     \t0.395924\t0.108832 \t0.178453\t0.455426\n",
      "5  \t0     \t0.231794\t0.106682 \t0.178453\t0.445157\n",
      "6  \t3     \t0.197153\t0.0157117\t0.178453\t0.215717\n",
      "7  \t2     \t0.187714\t0.0114106\t0.178453\t0.203582\n",
      "8  \t2     \t0.198045\t0.0244401\t0.178453\t0.234771\n",
      "9  \t2     \t0.18619 \t0.00947544\t0.178453\t0.197869\n",
      "10 \t2     \t0.192533\t0.0175473 \t0.178453\t0.218786\n",
      "11 \t0     \t0.178453\t0         \t0.178453\t0.178453\n",
      "12 \t2     \t0.19486 \t0.0205222 \t0.178453\t0.226063\n",
      "13 \t2     \t0.184654\t0.00832259\t0.178453\t0.199337\n",
      "14 \t3     \t0.199871\t0.017498  \t0.178453\t0.214811\n",
      "15 \t0     \t0.199827\t0.0174609 \t0.178453\t0.214592\n",
      "16 \t2     \t0.274428\t0.175733  \t0.178453\t0.624941\n",
      "17 \t0     \t0.267751\t0.178595  \t0.178453\t0.624941\n",
      "18 \t0     \t0.178453\t0         \t0.178453\t0.178453\n",
      "19 \t1     \t0.230419\t0.103932  \t0.178453\t0.438284\n",
      "20 \t2     \t0.279471\t0.123723  \t0.178453\t0.43191 \n",
      "21 \t0     \t0.178453\t0         \t0.178453\t0.178453\n",
      "22 \t0     \t0.178453\t0         \t0.178453\t0.178453\n",
      "23 \t0     \t0.178453\t0         \t0.178453\t0.178453\n",
      "24 \t1     \t0.180523\t0.00414036\t0.178453\t0.188804\n",
      "25 \t2     \t0.193638\t0.0207593 \t0.178453\t0.231   \n",
      "26 \t0     \t0.178453\t0         \t0.178453\t0.178453\n",
      "27 \t2     \t0.196618\t0.0222726 \t0.178453\t0.225529\n",
      "28 \t0     \t0.178453\t0         \t0.178453\t0.178453\n",
      "29 \t2     \t0.196701\t0.0228824 \t0.178453\t0.23184 \n",
      "30 \t0     \t0.178453\t0         \t0.178453\t0.178453\n",
      "31 \t0     \t0.178453\t0         \t0.178453\t0.178453\n",
      "32 \t1     \t0.178545\t0.000184248\t0.178453\t0.178914\n",
      "33 \t1     \t0.207787\t0.0586684  \t0.178453\t0.325124\n",
      "34 \t0     \t0.178453\t0          \t0.178453\t0.178453\n",
      "35 \t0     \t0.178453\t0          \t0.178453\t0.178453\n",
      "36 \t2     \t0.188407\t0.0127716  \t0.178453\t0.209358\n",
      "37 \t0     \t0.184634\t0.0123618  \t0.178453\t0.209358\n",
      "38 \t2     \t0.194631\t0.0207349  \t0.178453\t0.22856 \n",
      "39 \t2     \t0.220208\t0.0667099  \t0.178453\t0.350572\n",
      "40 \t2     \t0.193935\t0.0189785  \t0.178453\t0.218425\n",
      "41 \t0     \t0.178453\t0          \t0.178453\t0.178453\n",
      "42 \t0     \t0.178453\t0          \t0.178453\t0.178453\n",
      "43 \t3     \t0.243654\t0.0957732  \t0.178453\t0.432473\n",
      "44 \t1     \t0.241712\t0.109784   \t0.178453\t0.459584\n",
      "45 \t2     \t0.192507\t0.0184176  \t0.178453\t0.223948\n",
      "46 \t3     \t0.281641\t0.153156   \t0.178453\t0.583907\n",
      "47 \t0     \t0.209436\t0.0252976  \t0.178453\t0.230092\n",
      "48 \t2     \t0.197985\t0.0256223  \t0.178453\t0.241797\n",
      "49 \t2     \t0.194967\t0.0202943  \t0.178453\t0.222385\n",
      "50 \t2     \t0.197448\t0.0232916  \t0.178453\t0.227741\n",
      "51 \t0     \t0.18759 \t0.0182741  \t0.178453\t0.224138\n",
      "52 \t3     \t0.266181\t0.137461   \t0.178453\t0.538622\n",
      "53 \t3     \t0.253762\t0.095923   \t0.178453\t0.442945\n",
      "54 \t1     \t0.197547\t0.0158936  \t0.178453\t0.215296\n",
      "55 \t0     \t0.190179\t0.0144299  \t0.178453\t0.209997\n",
      "56 \t0     \t0.178453\t0          \t0.178453\t0.178453\n",
      "57 \t2     \t0.193828\t0.020611   \t0.178453\t0.230141\n",
      "58 \t1     \t0.298235\t0.239565   \t0.178453\t0.777364\n",
      "59 \t3     \t0.194268\t0.0136118  \t0.178453\t0.211327\n",
      "60 \t3     \t0.324667\t0.2299     \t0.178453\t0.782125\n",
      "61 \t0     \t0.211649\t0.019886   \t0.197744\t0.248742\n",
      "62 \t4     \t0.29377 \t0.162146   \t0.186516\t0.615621\n",
      "63 \t2     \t0.207624\t0.0140493  \t0.186516\t0.2269  \n",
      "64 \t0     \t0.196131\t0.00944767 \t0.186516\t0.212137\n",
      "65 \t3     \t0.216828\t0.0487304  \t0.186516\t0.313463\n",
      "66 \t0     \t0.189966\t0.00690048 \t0.186516\t0.203767\n",
      "67 \t1     \t0.236592\t0.100152   \t0.186516\t0.436895\n",
      "68 \t2     \t0.193234\t0.00853001 \t0.186516\t0.206868\n",
      "69 \t1     \t0.180949\t0.0111345  \t0.15868 \t0.186516\n",
      "70 \t0     \t0.175382\t0.013637   \t0.15868 \t0.186516\n",
      "71 \t1     \t0.189093\t0.0481316  \t0.15868 \t0.28291 \n",
      "72 \t2     \t0.165447\t0.0170613  \t0.15202 \t0.199178\n",
      "73 \t1     \t0.231328\t0.148649   \t0.15202 \t0.52858 \n",
      "74 \t1     \t0.22732 \t0.140635   \t0.15202 \t0.508543\n",
      "75 \t2     \t0.244021\t0.133952   \t0.15202 \t0.508543\n",
      "76 \t2     \t0.241368\t0.134791   \t0.15202 \t0.508543\n",
      "77 \t1     \t0.173402\t0.0362266  \t0.15202 \t0.24561 \n",
      "78 \t0     \t0.154684\t0.00326267 \t0.15202 \t0.15868 \n",
      "79 \t2     \t0.183884\t0.0387515  \t0.15202 \t0.24942 \n",
      "80 \t2     \t0.175701\t0.0254684  \t0.15202 \t0.207282\n",
      "81 \t0     \t0.15202 \t0          \t0.15202 \t0.15202 \n",
      "82 \t2     \t0.163205\t0.0213682  \t0.15202 \t0.205912\n",
      "83 \t4     \t0.18232 \t0.027825   \t0.148566\t0.218641\n",
      "84 \t5     \t0.311709\t0.233912   \t0.17878 \t0.778611\n",
      "85 \t2     \t0.202697\t0.023897   \t0.173846\t0.238486\n",
      "86 \t2     \t0.183788\t0.0172286  \t0.173846\t0.217973\n",
      "87 \t0     \t0.174963\t0.00223363 \t0.173846\t0.17943 \n"
     ]
    }
   ],
   "source": [
    "acc = []\n",
    "evals =[]\n",
    "for cv in tqdm(range(0,100)):\n",
    "    pop = toolbox.population(n=5)\n",
    "    pop, log = algorithms.eaSimple(pop, toolbox, cxpb=0.2, mutpb=0.1, ngen=100, \n",
    "                                       stats=stats, halloffame=hof)\n",
    "    acc.append(log[5]['min'])\n",
    "    evals.append(np.sum([x['nevals'] for x in log]))"
   ]
  },
  {
   "cell_type": "code",
   "execution_count": null,
   "metadata": {},
   "outputs": [],
   "source": [
    "np.mean(acc)"
   ]
  },
  {
   "cell_type": "code",
   "execution_count": null,
   "metadata": {},
   "outputs": [],
   "source": [
    "np.median(acc)"
   ]
  },
  {
   "cell_type": "code",
   "execution_count": null,
   "metadata": {},
   "outputs": [],
   "source": [
    "np.mean(evals)"
   ]
  },
  {
   "cell_type": "code",
   "execution_count": null,
   "metadata": {},
   "outputs": [],
   "source": [
    "# Variable keeping track of the number of generations\n",
    "g = 0\n",
    "CXPB, MUTPB = 0.5, 0.2    \n",
    "# Begin the evolution\n",
    "while g < 10:\n",
    "    # A new generation\n",
    "    g = g + 1\n",
    "    print(\"-- Generation %i --\" % g)\n",
    "    offspring = toolbox.select(pop, len(pop))\n",
    "    offspring = list(map(toolbox.clone, offspring))\n",
    "    \n",
    "    for child1, child2 in zip(offspring[::2], offspring[1::2]):\n",
    "        if random.random() < CXPB:\n",
    "            toolbox.mate(child1, child2)\n",
    "            del child1.fitness.values\n",
    "            del child2.fitness.values\n",
    "\n",
    "    for mutant in offspring:\n",
    "        if random.random() < MUTPB:\n",
    "            toolbox.mutate(mutant)\n",
    "            del mutant.fitness.values\n",
    "            # Evaluate the individuals with an invalid fitness\n",
    "    invalid_ind = [ind for ind in offspring if not ind.fitness.valid]\n",
    "    fitnesses = map(toolbox.evaluate, invalid_ind)\n",
    "    for ind, fit in zip(invalid_ind, fitnesses):\n",
    "        ind.fitness.values = fit\n",
    "    pop[:] = offspring\n",
    "    \n",
    "    \n",
    "fits = [ind.fitness.values[0] for ind in pop]   \n",
    "length = len(pop)\n",
    "mean = sum(fits) / length\n",
    "sum2 = sum(x*x for x in fits)\n",
    "std = abs(sum2 / length - mean**2)**0.5\n",
    "        \n",
    "print(\"  Min %s\" % min(fits))\n",
    "print(\"  Max %s\" % max(fits))\n",
    "print(\"  Avg %s\" % mean)\n",
    "print(\"  Std %s\" % std)"
   ]
  },
  {
   "cell_type": "code",
   "execution_count": null,
   "metadata": {},
   "outputs": [],
   "source": []
  }
 ],
 "metadata": {
  "kernelspec": {
   "display_name": "Python 3",
   "language": "python",
   "name": "python3"
  },
  "language_info": {
   "codemirror_mode": {
    "name": "ipython",
    "version": 3
   },
   "file_extension": ".py",
   "mimetype": "text/x-python",
   "name": "python",
   "nbconvert_exporter": "python",
   "pygments_lexer": "ipython3",
   "version": "3.6.8"
  }
 },
 "nbformat": 4,
 "nbformat_minor": 2
}
