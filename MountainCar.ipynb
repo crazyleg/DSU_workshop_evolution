{
 "cells": [
  {
   "cell_type": "code",
   "execution_count": 5,
   "metadata": {},
   "outputs": [
    {
     "name": "stderr",
     "output_type": "stream",
     "text": [
      "/Users/oleksandrsavsunenko/anaconda3/envs/data/lib/python3.6/site-packages/deap/tools/_hypervolume/pyhv.py:33: ImportWarning: Falling back to the python version of hypervolume module. Expect this to be very slow.\n",
      "  \"module. Expect this to be very slow.\", ImportWarning)\n"
     ]
    }
   ],
   "source": [
    "import gym\n",
    "import numpy as np\n",
    "import time\n",
    "import random\n",
    "import operator\n",
    "import math\n",
    "from IPython.display import clear_output\n",
    "from gym import wrappers\n",
    "from deap import algorithms\n",
    "from deap import base\n",
    "from deap import creator\n",
    "from deap import tools\n",
    "from deap import gp"
   ]
  },
  {
   "cell_type": "code",
   "execution_count": 6,
   "metadata": {},
   "outputs": [],
   "source": [
    "env = gym.make(\"Acrobot-v1\")\n",
    "#env = wrappers.Monitor(env, '/tmp/cartpole-experiment-5')\n",
    "env.reset();"
   ]
  },
  {
   "cell_type": "code",
   "execution_count": 7,
   "metadata": {},
   "outputs": [
    {
     "data": {
      "text/plain": [
       "(array([ 0.99981321, -0.01932756,  0.99958986, -0.02863761,  0.07393875,\n",
       "        -0.0093266 ]), -1.0, False, {})"
      ]
     },
     "execution_count": 7,
     "metadata": {},
     "output_type": "execute_result"
    }
   ],
   "source": [
    "env.step(1)"
   ]
  },
  {
   "cell_type": "code",
   "execution_count": 4,
   "metadata": {},
   "outputs": [
    {
     "data": {
      "text/plain": [
       "array([ 0.99886988, -0.0475286 ,  0.99936722, -0.03556922,  0.00476106,\n",
       "       -0.03119897])"
      ]
     },
     "execution_count": 4,
     "metadata": {},
     "output_type": "execute_result"
    }
   ],
   "source": [
    "for i in range(100):\n",
    "    env.step(random.randint(0,1))\n",
    "    env.render()\n",
    "env.reset()"
   ]
  },
  {
   "cell_type": "code",
   "execution_count": 8,
   "metadata": {},
   "outputs": [],
   "source": [
    "pset = gp.PrimitiveSet(\"main\", 6)\n",
    "def if_then_else(input, output1, output2):\n",
    "    return output1 if input else output2\n",
    "\n",
    "def protectedDiv(left, right):\n",
    "    try:\n",
    "        return left / right\n",
    "    except ZeroDivisionError:\n",
    "        return 1\n",
    "    \n",
    "\n",
    "\n",
    "pset.addPrimitive(operator.neg, 1)\n",
    "pset.addPrimitive(max, 2)\n",
    "pset.addPrimitive(min, 2)\n",
    "pset.addPrimitive(protectedDiv, 2)\n",
    "pset.addPrimitive(operator.add, 2)\n",
    "pset.addPrimitive(operator.mul, 2)\n"
   ]
  },
  {
   "cell_type": "code",
   "execution_count": 9,
   "metadata": {},
   "outputs": [],
   "source": [
    "expr = gp.genFull(pset, min_=1, max_=3)\n",
    "tree = gp.PrimitiveTree(expr)"
   ]
  },
  {
   "cell_type": "code",
   "execution_count": 10,
   "metadata": {},
   "outputs": [],
   "source": [
    "creator.create(\"FitnessMin\", base.Fitness, weights=(1.0,))\n",
    "creator.create(\"Individual\", gp.PrimitiveTree, fitness=creator.FitnessMin,\n",
    "               pset=pset)"
   ]
  },
  {
   "cell_type": "code",
   "execution_count": 11,
   "metadata": {},
   "outputs": [],
   "source": [
    "def sample_reward(env, func, t_max=200):\n",
    "    s = env.reset()\n",
    "    total_reward = 0\n",
    "    max_pos = -1\n",
    "    #self.rewardx = (-np.cos(s[0]) - np.cos(s[1] + s[0]))\n",
    "    for _ in range(t_max):\n",
    "        next_action = func(*s)\n",
    "        if next_action<=-1:\n",
    "            next_action = -1\n",
    "        elif next_action>-1 and next_action<1:\n",
    "            next_action = 0\n",
    "        else:\n",
    "            next_action = 1\n",
    "\n",
    "        s, reward, is_done, _ = env.step(next_action)\n",
    "        rewardx = (-np.cos(s[0]) - np.cos(s[1] + s[0]))\n",
    "        \n",
    "        if rewardx>max_pos:\n",
    "            max_pos = rewardx \n",
    "        if is_done:\n",
    "            return max_pos\n",
    "    return max_pos"
   ]
  },
  {
   "cell_type": "code",
   "execution_count": 12,
   "metadata": {},
   "outputs": [],
   "source": [
    "def evalSymbReg(individual, n_times=10):\n",
    "    \n",
    "    func = toolbox.compile(expr=individual)\n",
    "    rewards = [sample_reward(env, func) for _ in range(n_times)]\n",
    "    \n",
    "    return float(np.mean(rewards)), "
   ]
  },
  {
   "cell_type": "code",
   "execution_count": 13,
   "metadata": {},
   "outputs": [],
   "source": [
    "toolbox = base.Toolbox()\n",
    "toolbox.register(\"expr\", gp.genHalfAndHalf, pset=pset, min_=1, max_=6)\n",
    "toolbox.register(\"individual\", tools.initIterate, creator.Individual, toolbox.expr)\n",
    "toolbox.register(\"population\", tools.initRepeat, list, toolbox.individual)\n",
    "toolbox.register(\"compile\", gp.compile, pset=pset)\n",
    "\n",
    "toolbox.register(\"evaluate\", evalSymbReg)\n",
    "toolbox.register(\"select\", tools.selTournament, tournsize=7)\n",
    "toolbox.register(\"mate\", gp.cxOnePoint)\n",
    "toolbox.register(\"expr_mut\", gp.genFull, min_=0, max_=2)\n",
    "toolbox.register(\"mutate\", gp.mutUniform, expr=toolbox.expr_mut, pset=pset)\n",
    "\n",
    "toolbox.decorate(\"mate\", gp.staticLimit(key=operator.attrgetter(\"height\"), max_value=17))\n",
    "toolbox.decorate(\"mutate\", gp.staticLimit(key=operator.attrgetter(\"height\"), max_value=17))"
   ]
  },
  {
   "cell_type": "code",
   "execution_count": 14,
   "metadata": {},
   "outputs": [],
   "source": [
    "stats_fit = tools.Statistics(lambda ind: ind.fitness.values)\n",
    "stats_size = tools.Statistics(len)\n",
    "mstats = tools.MultiStatistics(fitness=stats_fit, size=stats_size)\n",
    "mstats.register(\"avg\", np.mean)\n",
    "mstats.register(\"std\", np.std)\n",
    "mstats.register(\"min\", np.min)\n",
    "mstats.register(\"max\", np.max)"
   ]
  },
  {
   "cell_type": "code",
   "execution_count": 15,
   "metadata": {},
   "outputs": [
    {
     "name": "stderr",
     "output_type": "stream",
     "text": [
      "/Users/oleksandrsavsunenko/anaconda3/envs/data/lib/python3.6/site-packages/ipykernel_launcher.py:7: RuntimeWarning: divide by zero encountered in double_scalars\n",
      "  import sys\n"
     ]
    },
    {
     "name": "stdout",
     "output_type": "stream",
     "text": [
      "   \t      \t                 fitness                 \t              size             \n",
      "   \t      \t-----------------------------------------\t-------------------------------\n",
      "gen\tnevals\tavg    \tmax      \tmin\tstd      \tavg    \tmax\tmin\tstd    \n",
      "0  \t300   \t-0.9238\t-0.851067\t-1 \t0.0417243\t20.6667\t116\t2  \t26.7199\n",
      "1  \t171   \t-0.878199\t-0.851065\t-1 \t0.0410447\t34.53  \t109\t1  \t33.2313\n",
      "2  \t161   \t-0.869955\t-0.851064\t-1 \t0.0419448\t37.71  \t142\t1  \t35.2439\n",
      "3  \t160   \t-0.869562\t-0.851064\t-1 \t0.0412487\t33.8633\t146\t3  \t37.8254\n",
      "4  \t179   \t-0.87274 \t-0.851064\t-1 \t0.044796 \t31.1033\t156\t3  \t35.3994\n",
      "5  \t156   \t-0.870928\t-0.851064\t-1 \t0.0430574\t28.6   \t156\t1  \t33.5577\n",
      "6  \t159   \t-0.87682 \t-0.851063\t-1 \t0.048047 \t19.32  \t115\t1  \t27.0669\n",
      "7  \t165   \t-0.879025\t-0.851063\t-1 \t0.0459705\t7.76   \t100\t1  \t9.43623\n",
      "8  \t176   \t-0.881698\t-0.851063\t-1 \t0.0492509\t8.06   \t94 \t1  \t6.72778\n",
      "9  \t159   \t-0.879009\t-0.851063\t-1 \t0.050314 \t9.32333\t28 \t3  \t5.61831\n",
      "10 \t155   \t-0.872459\t-0.851063\t-1 \t0.0435839\t13.6633\t35 \t3  \t7.09718\n",
      "11 \t177   \t-0.872048\t-0.851063\t-1 \t0.0401957\t18.83  \t37 \t3  \t5.92406\n",
      "12 \t173   \t-0.867229\t-0.851063\t-1 \t0.0352615\t19.3433\t37 \t5  \t5.73865\n",
      "13 \t158   \t-0.868712\t-0.851063\t-1 \t0.038524 \t18.4167\t37 \t3  \t5.75526\n",
      "14 \t155   \t-0.866133\t-0.851063\t-1 \t0.0329388\t14.44  \t37 \t1  \t5.84463\n",
      "15 \t176   \t-0.870991\t-0.851063\t-1 \t0.0408549\t11.56  \t35 \t1  \t3.9564 \n",
      "16 \t181   \t-0.876334\t-0.851063\t-1 \t0.0449276\t11.1567\t26 \t1  \t3.75217\n",
      "17 \t179   \t-0.872674\t-0.851063\t-1 \t0.0433002\t10.9067\t20 \t1  \t3.10987\n",
      "18 \t187   \t-0.878546\t-0.851063\t-1 \t0.0503571\t10.92  \t27 \t1  \t3.45257\n",
      "19 \t158   \t-0.875188\t-0.851063\t-1 \t0.0484615\t10.9633\t19 \t1  \t3.18779\n",
      "20 \t179   \t-0.875847\t-0.851063\t-1 \t0.0462963\t10.9633\t24 \t1  \t3.37075\n",
      "21 \t156   \t-0.865916\t-0.851063\t-1 \t0.0372271\t11.1567\t23 \t3  \t2.76745\n",
      "22 \t155   \t-0.871635\t-0.851063\t-1 \t0.0436215\t10.8467\t19 \t1  \t2.81007\n",
      "23 \t176   \t-0.871859\t-0.851063\t-1 \t0.0439853\t10.8867\t19 \t1  \t3.21774\n",
      "24 \t170   \t-0.875337\t-0.851063\t-1 \t0.0463346\t10.87  \t19 \t1  \t2.70181\n",
      "25 \t166   \t-0.873353\t-0.851063\t-1 \t0.0436283\t11.0033\t19 \t1  \t3.25423\n",
      "26 \t165   \t-0.872017\t-0.851063\t-1 \t0.0438703\t11.03  \t19 \t3  \t3.0977 \n",
      "27 \t175   \t-0.8728  \t-0.851063\t-1 \t0.0421453\t10.9267\t21 \t3  \t3.27026\n",
      "28 \t163   \t-0.876336\t-0.851063\t-1 \t0.0481566\t10.7533\t22 \t1  \t3.57945\n",
      "29 \t160   \t-0.871416\t-0.851063\t-1 \t0.0429828\t11.1567\t21 \t1  \t2.99869\n",
      "30 \t172   \t-0.875878\t-0.851063\t-1 \t0.0485071\t11.0567\t19 \t1  \t3.07898\n",
      "31 \t175   \t-0.874835\t-0.851063\t-1 \t0.0471357\t11.0933\t22 \t1  \t3.4173 \n",
      "32 \t170   \t-0.874824\t-0.851063\t-1 \t0.0476024\t10.9733\t19 \t3  \t3.15689\n",
      "33 \t150   \t-0.870477\t-0.851063\t-1 \t0.0424331\t10.9767\t19 \t1  \t2.88723\n",
      "34 \t163   \t-0.874492\t-0.851063\t-1 \t0.0456383\t11.0133\t25 \t1  \t3.13579\n",
      "35 \t157   \t-0.86855 \t-0.851063\t-1 \t0.0415325\t10.7867\t19 \t1  \t2.75218\n",
      "36 \t146   \t-0.867014\t-0.851063\t-1 \t0.0386432\t11.0033\t21 \t3  \t2.77428\n",
      "37 \t165   \t-0.873877\t-0.851063\t-1 \t0.0471017\t10.84  \t21 \t1  \t3.24978\n",
      "38 \t152   \t-0.873617\t-0.851063\t-1 \t0.0466792\t10.89  \t21 \t3  \t3.07429\n",
      "39 \t166   \t-0.86963 \t-0.851063\t-1 \t0.0412201\t10.7567\t19 \t1  \t3.20793\n",
      "40 \t178   \t-0.874336\t-0.851063\t-1 \t0.0464388\t10.9   \t21 \t3  \t3.51805\n"
     ]
    }
   ],
   "source": [
    "pop = toolbox.population(n=300)\n",
    "hof = tools.HallOfFame(1)\n",
    "pop, log = algorithms.eaSimple(pop, toolbox, 0.5, 0.1, 40, stats=mstats,\n",
    "                                   halloffame=hof, verbose=True)"
   ]
  },
  {
   "cell_type": "code",
   "execution_count": 15,
   "metadata": {},
   "outputs": [],
   "source": [
    "best_func = gp.compile(hof[0], pset)"
   ]
  },
  {
   "cell_type": "code",
   "execution_count": 16,
   "metadata": {},
   "outputs": [
    {
     "data": {
      "text/plain": [
       "(0.9,)"
      ]
     },
     "execution_count": 16,
     "metadata": {},
     "output_type": "execute_result"
    }
   ],
   "source": [
    "evalSymbReg(hof[0])"
   ]
  },
  {
   "cell_type": "code",
   "execution_count": null,
   "metadata": {},
   "outputs": [
    {
     "ename": "TypeError",
     "evalue": "must be str, not bytes",
     "output_type": "error",
     "traceback": [
      "\u001b[0;31m---------------------------------------------------------------------------\u001b[0m",
      "\u001b[0;31mArgumentError\u001b[0m                             Traceback (most recent call last)",
      "\u001b[0;32m~/anaconda3/envs/data/lib/python3.6/site-packages/pyglet/libs/darwin/cocoapy/runtime.py\u001b[0m in \u001b[0;36m__call__\u001b[0;34m(self, objc_id, *args)\u001b[0m\n\u001b[1;32m    754\u001b[0m         \u001b[0;32mtry\u001b[0m\u001b[0;34m:\u001b[0m\u001b[0;34m\u001b[0m\u001b[0;34m\u001b[0m\u001b[0m\n\u001b[0;32m--> 755\u001b[0;31m             \u001b[0mresult\u001b[0m \u001b[0;34m=\u001b[0m \u001b[0mf\u001b[0m\u001b[0;34m(\u001b[0m\u001b[0mobjc_id\u001b[0m\u001b[0;34m,\u001b[0m \u001b[0mself\u001b[0m\u001b[0;34m.\u001b[0m\u001b[0mselector\u001b[0m\u001b[0;34m,\u001b[0m \u001b[0;34m*\u001b[0m\u001b[0margs\u001b[0m\u001b[0;34m)\u001b[0m\u001b[0;34m\u001b[0m\u001b[0;34m\u001b[0m\u001b[0m\n\u001b[0m\u001b[1;32m    756\u001b[0m             \u001b[0;31m# Convert result to python type if it is a instance or class pointer.\u001b[0m\u001b[0;34m\u001b[0m\u001b[0;34m\u001b[0m\u001b[0;34m\u001b[0m\u001b[0m\n",
      "\u001b[0;31mArgumentError\u001b[0m: argument 1: <class 'RecursionError'>: maximum recursion depth exceeded while calling a Python object",
      "\nDuring handling of the above exception, another exception occurred:\n",
      "\u001b[0;31mTypeError\u001b[0m                                 Traceback (most recent call last)",
      "\u001b[0;32m_ctypes/callbacks.c\u001b[0m in \u001b[0;36m'calling callback function'\u001b[0;34m()\u001b[0m\n",
      "\u001b[0;32m~/anaconda3/envs/data/lib/python3.6/site-packages/pyglet/libs/darwin/cocoapy/runtime.py\u001b[0m in \u001b[0;36mobjc_method\u001b[0;34m(objc_self, objc_cmd, *args)\u001b[0m\n\u001b[1;32m   1119\u001b[0m                 \u001b[0mpy_self\u001b[0m\u001b[0;34m.\u001b[0m\u001b[0mobjc_cmd\u001b[0m \u001b[0;34m=\u001b[0m \u001b[0mobjc_cmd\u001b[0m\u001b[0;34m\u001b[0m\u001b[0;34m\u001b[0m\u001b[0m\n\u001b[1;32m   1120\u001b[0m                 \u001b[0margs\u001b[0m \u001b[0;34m=\u001b[0m \u001b[0mconvert_method_arguments\u001b[0m\u001b[0;34m(\u001b[0m\u001b[0mencoding\u001b[0m\u001b[0;34m,\u001b[0m \u001b[0margs\u001b[0m\u001b[0;34m)\u001b[0m\u001b[0;34m\u001b[0m\u001b[0;34m\u001b[0m\u001b[0m\n\u001b[0;32m-> 1121\u001b[0;31m                 \u001b[0mresult\u001b[0m \u001b[0;34m=\u001b[0m \u001b[0mf\u001b[0m\u001b[0;34m(\u001b[0m\u001b[0mpy_self\u001b[0m\u001b[0;34m,\u001b[0m \u001b[0;34m*\u001b[0m\u001b[0margs\u001b[0m\u001b[0;34m)\u001b[0m\u001b[0;34m\u001b[0m\u001b[0;34m\u001b[0m\u001b[0m\n\u001b[0m\u001b[1;32m   1122\u001b[0m                 \u001b[0;32mif\u001b[0m \u001b[0misinstance\u001b[0m\u001b[0;34m(\u001b[0m\u001b[0mresult\u001b[0m\u001b[0;34m,\u001b[0m \u001b[0mObjCClass\u001b[0m\u001b[0;34m)\u001b[0m\u001b[0;34m:\u001b[0m\u001b[0;34m\u001b[0m\u001b[0;34m\u001b[0m\u001b[0m\n\u001b[1;32m   1123\u001b[0m                     \u001b[0mresult\u001b[0m \u001b[0;34m=\u001b[0m \u001b[0mresult\u001b[0m\u001b[0;34m.\u001b[0m\u001b[0mptr\u001b[0m\u001b[0;34m.\u001b[0m\u001b[0mvalue\u001b[0m\u001b[0;34m\u001b[0m\u001b[0;34m\u001b[0m\u001b[0m\n",
      "\u001b[0;32m~/anaconda3/envs/data/lib/python3.6/site-packages/pyglet/window/cocoa/pyglet_window.py\u001b[0m in \u001b[0;36mnextEventMatchingMask_untilDate_inMode_dequeue_\u001b[0;34m(self, mask, date, mode, dequeue)\u001b[0m\n\u001b[1;32m     23\u001b[0m     \u001b[0;34m@\u001b[0m\u001b[0mPygletWindow\u001b[0m\u001b[0;34m.\u001b[0m\u001b[0mmethod\u001b[0m\u001b[0;34m(\u001b[0m\u001b[0;34mb'@'\u001b[0m\u001b[0;34m+\u001b[0m\u001b[0mNSUIntegerEncoding\u001b[0m\u001b[0;34m+\u001b[0m\u001b[0;34mb'@@B'\u001b[0m\u001b[0;34m)\u001b[0m\u001b[0;34m\u001b[0m\u001b[0;34m\u001b[0m\u001b[0m\n\u001b[1;32m     24\u001b[0m     \u001b[0;32mdef\u001b[0m \u001b[0mnextEventMatchingMask_untilDate_inMode_dequeue_\u001b[0m\u001b[0;34m(\u001b[0m\u001b[0mself\u001b[0m\u001b[0;34m,\u001b[0m \u001b[0mmask\u001b[0m\u001b[0;34m,\u001b[0m \u001b[0mdate\u001b[0m\u001b[0;34m,\u001b[0m \u001b[0mmode\u001b[0m\u001b[0;34m,\u001b[0m \u001b[0mdequeue\u001b[0m\u001b[0;34m)\u001b[0m\u001b[0;34m:\u001b[0m\u001b[0;34m\u001b[0m\u001b[0;34m\u001b[0m\u001b[0m\n\u001b[0;32m---> 25\u001b[0;31m         \u001b[0;32mif\u001b[0m \u001b[0mself\u001b[0m\u001b[0;34m.\u001b[0m\u001b[0minLiveResize\u001b[0m\u001b[0;34m(\u001b[0m\u001b[0;34m)\u001b[0m\u001b[0;34m:\u001b[0m\u001b[0;34m\u001b[0m\u001b[0;34m\u001b[0m\u001b[0m\n\u001b[0m\u001b[1;32m     26\u001b[0m             \u001b[0;31m# Call the idle() method while we're stuck in a live resize event.\u001b[0m\u001b[0;34m\u001b[0m\u001b[0;34m\u001b[0m\u001b[0;34m\u001b[0m\u001b[0m\n\u001b[1;32m     27\u001b[0m             \u001b[0;32mfrom\u001b[0m \u001b[0mpyglet\u001b[0m \u001b[0;32mimport\u001b[0m \u001b[0mapp\u001b[0m\u001b[0;34m\u001b[0m\u001b[0;34m\u001b[0m\u001b[0m\n",
      "\u001b[0;32m~/anaconda3/envs/data/lib/python3.6/site-packages/pyglet/libs/darwin/cocoapy/runtime.py\u001b[0m in \u001b[0;36m__call__\u001b[0;34m(self, *args)\u001b[0m\n\u001b[1;32m    783\u001b[0m     \u001b[0;32mdef\u001b[0m \u001b[0m__call__\u001b[0m\u001b[0;34m(\u001b[0m\u001b[0mself\u001b[0m\u001b[0;34m,\u001b[0m \u001b[0;34m*\u001b[0m\u001b[0margs\u001b[0m\u001b[0;34m)\u001b[0m\u001b[0;34m:\u001b[0m\u001b[0;34m\u001b[0m\u001b[0;34m\u001b[0m\u001b[0m\n\u001b[1;32m    784\u001b[0m         \u001b[0;34m\"\"\"Call the method with the given arguments.\"\"\"\u001b[0m\u001b[0;34m\u001b[0m\u001b[0;34m\u001b[0m\u001b[0m\n\u001b[0;32m--> 785\u001b[0;31m         \u001b[0;32mreturn\u001b[0m \u001b[0mself\u001b[0m\u001b[0;34m.\u001b[0m\u001b[0mmethod\u001b[0m\u001b[0;34m(\u001b[0m\u001b[0mself\u001b[0m\u001b[0;34m.\u001b[0m\u001b[0mobjc_id\u001b[0m\u001b[0;34m,\u001b[0m \u001b[0;34m*\u001b[0m\u001b[0margs\u001b[0m\u001b[0;34m)\u001b[0m\u001b[0;34m\u001b[0m\u001b[0;34m\u001b[0m\u001b[0m\n\u001b[0m\u001b[1;32m    786\u001b[0m \u001b[0;34m\u001b[0m\u001b[0m\n\u001b[1;32m    787\u001b[0m \u001b[0;31m######################################################################\u001b[0m\u001b[0;34m\u001b[0m\u001b[0;34m\u001b[0m\u001b[0;34m\u001b[0m\u001b[0m\n",
      "\u001b[0;32m~/anaconda3/envs/data/lib/python3.6/site-packages/pyglet/libs/darwin/cocoapy/runtime.py\u001b[0m in \u001b[0;36m__call__\u001b[0;34m(self, objc_id, *args)\u001b[0m\n\u001b[1;32m    762\u001b[0m         \u001b[0;32mexcept\u001b[0m \u001b[0mArgumentError\u001b[0m \u001b[0;32mas\u001b[0m \u001b[0merror\u001b[0m\u001b[0;34m:\u001b[0m\u001b[0;34m\u001b[0m\u001b[0;34m\u001b[0m\u001b[0m\n\u001b[1;32m    763\u001b[0m             \u001b[0;31m# Add more useful info to argument error exceptions, then reraise.\u001b[0m\u001b[0;34m\u001b[0m\u001b[0;34m\u001b[0m\u001b[0;34m\u001b[0m\u001b[0m\n\u001b[0;32m--> 764\u001b[0;31m             error.args += ('selector = ' + self.name,\n\u001b[0m\u001b[1;32m    765\u001b[0m                            \u001b[0;34m'argtypes ='\u001b[0m \u001b[0;34m+\u001b[0m \u001b[0mstr\u001b[0m\u001b[0;34m(\u001b[0m\u001b[0mself\u001b[0m\u001b[0;34m.\u001b[0m\u001b[0margtypes\u001b[0m\u001b[0;34m)\u001b[0m\u001b[0;34m,\u001b[0m\u001b[0;34m\u001b[0m\u001b[0;34m\u001b[0m\u001b[0m\n\u001b[1;32m    766\u001b[0m                            'encoding = ' + self.encoding)\n",
      "\u001b[0;31mTypeError\u001b[0m: must be str, not bytes"
     ]
    }
   ],
   "source": [
    "for i in range(100):\n",
    "    s = env.reset()\n",
    "    total_reward = 0\n",
    "    for _ in range(500):\n",
    "        next_action = best_func(*s)\n",
    "        next_action = 0 if next_action<=0 else 1\n",
    "        s, reward, is_done, _ = env.step(next_action)\n",
    "        total_reward += reward\n",
    "        env.render()\n",
    "        if is_done:\n",
    "            break\n"
   ]
  },
  {
   "cell_type": "code",
   "execution_count": null,
   "metadata": {},
   "outputs": [],
   "source": []
  }
 ],
 "metadata": {
  "kernelspec": {
   "display_name": "Python 3",
   "language": "python",
   "name": "python3"
  },
  "language_info": {
   "codemirror_mode": {
    "name": "ipython",
    "version": 3
   },
   "file_extension": ".py",
   "mimetype": "text/x-python",
   "name": "python",
   "nbconvert_exporter": "python",
   "pygments_lexer": "ipython3",
   "version": "3.6.8"
  }
 },
 "nbformat": 4,
 "nbformat_minor": 2
}
