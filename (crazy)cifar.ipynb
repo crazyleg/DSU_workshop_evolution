{
 "cells": [
  {
   "cell_type": "code",
   "execution_count": 1,
   "metadata": {},
   "outputs": [],
   "source": [
    "from sklearn import datasets"
   ]
  },
  {
   "cell_type": "code",
   "execution_count": 2,
   "metadata": {},
   "outputs": [],
   "source": [
    "digits = datasets.load_digits()"
   ]
  },
  {
   "cell_type": "code",
   "execution_count": 3,
   "metadata": {},
   "outputs": [],
   "source": [
    "#Try Primitives approach"
   ]
  },
  {
   "cell_type": "code",
   "execution_count": 13,
   "metadata": {},
   "outputs": [],
   "source": [
    "import gym\n",
    "import numpy as np\n",
    "import time\n",
    "import math\n",
    "import random\n",
    "import operator\n",
    "from IPython.display import clear_output\n",
    "from gym import wrappers\n",
    "from deap import algorithms\n",
    "from deap import base\n",
    "from deap import creator\n",
    "from deap import tools\n",
    "from deap import gp"
   ]
  },
  {
   "cell_type": "code",
   "execution_count": 235,
   "metadata": {},
   "outputs": [],
   "source": [
    "pset = gp.PrimitiveSet(\"main\", 64)\n",
    "def if_then_else(input, output1, output2):\n",
    "    return output1 if input else output2\n",
    "def protectedDiv(left, right):\n",
    "    try:\n",
    "        return left / right\n",
    "    except ZeroDivisionError:\n",
    "        return 1\n",
    "pset.addPrimitive(if_then_else, 3)\n",
    "\n",
    "def protectedLog(left):\n",
    "    return math.log10(abs(left)+1e-7)\n",
    "pset.addPrimitive(if_then_else, 3)\n",
    "\n",
    "pset.addPrimitive(operator.neg, 1)\n",
    "pset.addPrimitive(max, 2)\n",
    "pset.addPrimitive(min, 2)\n",
    "pset.addPrimitive(protectedDiv, 2)\n",
    "pset.addPrimitive(operator.add, 2)\n",
    "pset.addPrimitive(operator.mul, 2)\n",
    "pset.addPrimitive(operator.mul, 2)\n",
    "\n",
    "pset.addTerminal(1)\n",
    "pset.addTerminal(0)\n"
   ]
  },
  {
   "cell_type": "code",
   "execution_count": 236,
   "metadata": {},
   "outputs": [],
   "source": [
    "expr = gp.genFull(pset, min_=1, max_=3)\n",
    "tree = gp.PrimitiveTree(expr)"
   ]
  },
  {
   "cell_type": "code",
   "execution_count": 237,
   "metadata": {},
   "outputs": [],
   "source": [
    "import multiprocessing"
   ]
  },
  {
   "cell_type": "code",
   "execution_count": 241,
   "metadata": {},
   "outputs": [],
   "source": [
    "def compare(data, value):\n",
    "    if math.isnan(data): data=9999999999\n",
    "    \n",
    "    if value-np.log10(data)>0.3 and value-np.log10(data)<=0.7:\n",
    "        return 1\n",
    "    \n",
    "    return 0\n",
    "\n",
    "def evalSymbReg(individual, n_times=1000):\n",
    "    func = toolbox.compile(expr=individual)\n",
    "\n",
    "    rewards = [compare(func(*digits.data[i]),digits.target[i]) for i in range(n_times)]\n",
    "    \n",
    "    return float(np.mean(rewards)),"
   ]
  },
  {
   "cell_type": "code",
   "execution_count": 242,
   "metadata": {},
   "outputs": [],
   "source": [
    "creator.create(\"FitnessMin\", base.Fitness, weights=(1.0,))\n",
    "creator.create(\"Individual\", gp.PrimitiveTree, fitness=creator.FitnessMin,\n",
    "               pset=pset)\n"
   ]
  },
  {
   "cell_type": "code",
   "execution_count": 243,
   "metadata": {},
   "outputs": [],
   "source": [
    "toolbox = base.Toolbox()\n",
    "toolbox.register(\"expr\", gp.genHalfAndHalf, pset=pset, min_=1, max_=7)\n",
    "toolbox.register(\"individual\", tools.initIterate, creator.Individual, toolbox.expr)\n",
    "# toolbox.register(\"individual_all\", tools.initRepeat, container=list, func=toolbox.individual,  n=10)\n",
    "toolbox.register(\"population\", tools.initRepeat, list, toolbox.individual)\n",
    "toolbox.register(\"compile\", gp.compile, pset=pset)\n",
    "\n",
    "toolbox.register(\"evaluate\", evalSymbReg)\n",
    "toolbox.register(\"select\", tools.selDoubleTournament, fitness_size=7, parsimony_size=1, fitness_first=True)\n",
    "toolbox.register(\"mate\", gp.cxOnePoint)\n",
    "toolbox.register(\"expr_mut\", gp.genFull, min_=0, max_=3)\n",
    "toolbox.register(\"mutate\", gp.mutUniform, expr=toolbox.expr_mut, pset=pset)\n",
    "\n",
    "toolbox.decorate(\"mate\", gp.staticLimit(key=operator.attrgetter(\"height\"), max_value=25))\n",
    "toolbox.decorate(\"mutate\", gp.staticLimit(key=operator.attrgetter(\"height\"), max_value=25))"
   ]
  },
  {
   "cell_type": "code",
   "execution_count": 244,
   "metadata": {},
   "outputs": [],
   "source": [
    "stats_fit = tools.Statistics(lambda ind: ind.fitness.values)\n",
    "stats_size = tools.Statistics(len)\n",
    "mstats = tools.MultiStatistics(fitness=stats_fit, size=stats_size)\n",
    "mstats.register(\"avg\", np.mean)\n",
    "mstats.register(\"std\", np.std)\n",
    "mstats.register(\"min\", np.min)\n",
    "mstats.register(\"max\", np.max)"
   ]
  },
  {
   "cell_type": "code",
   "execution_count": null,
   "metadata": {},
   "outputs": [
    {
     "name": "stderr",
     "output_type": "stream",
     "text": [
      "/Users/oleksandrsavsunenko/anaconda3/envs/data/lib/python3.7/site-packages/ipykernel_launcher.py:4: RuntimeWarning: divide by zero encountered in log10\n",
      "  after removing the cwd from sys.path.\n",
      "/Users/oleksandrsavsunenko/anaconda3/envs/data/lib/python3.7/site-packages/ipykernel_launcher.py:4: RuntimeWarning: invalid value encountered in log10\n",
      "  after removing the cwd from sys.path.\n",
      "/Users/oleksandrsavsunenko/anaconda3/envs/data/lib/python3.7/site-packages/ipykernel_launcher.py:4: RuntimeWarning: divide by zero encountered in log10\n",
      "  after removing the cwd from sys.path.\n",
      "/Users/oleksandrsavsunenko/anaconda3/envs/data/lib/python3.7/site-packages/ipykernel_launcher.py:6: RuntimeWarning: invalid value encountered in double_scalars\n",
      "  \n",
      "/Users/oleksandrsavsunenko/anaconda3/envs/data/lib/python3.7/site-packages/ipykernel_launcher.py:6: RuntimeWarning: invalid value encountered in double_scalars\n",
      "  \n",
      "/Users/oleksandrsavsunenko/anaconda3/envs/data/lib/python3.7/site-packages/ipykernel_launcher.py:4: RuntimeWarning: invalid value encountered in log10\n",
      "  after removing the cwd from sys.path.\n",
      "/Users/oleksandrsavsunenko/anaconda3/envs/data/lib/python3.7/site-packages/ipykernel_launcher.py:4: RuntimeWarning: divide by zero encountered in log10\n",
      "  after removing the cwd from sys.path.\n",
      "/Users/oleksandrsavsunenko/anaconda3/envs/data/lib/python3.7/site-packages/ipykernel_launcher.py:4: RuntimeWarning: divide by zero encountered in log10\n",
      "  after removing the cwd from sys.path.\n",
      "/Users/oleksandrsavsunenko/anaconda3/envs/data/lib/python3.7/site-packages/ipykernel_launcher.py:6: RuntimeWarning: divide by zero encountered in double_scalars\n",
      "  \n",
      "/Users/oleksandrsavsunenko/anaconda3/envs/data/lib/python3.7/site-packages/ipykernel_launcher.py:6: RuntimeWarning: divide by zero encountered in double_scalars\n",
      "  \n",
      "/Users/oleksandrsavsunenko/anaconda3/envs/data/lib/python3.7/site-packages/ipykernel_launcher.py:6: RuntimeWarning: invalid value encountered in double_scalars\n",
      "  \n",
      "<string>:1: RuntimeWarning: invalid value encountered in double_scalars\n",
      "/Users/oleksandrsavsunenko/anaconda3/envs/data/lib/python3.7/site-packages/ipykernel_launcher.py:6: RuntimeWarning: divide by zero encountered in double_scalars\n",
      "  \n",
      "/Users/oleksandrsavsunenko/anaconda3/envs/data/lib/python3.7/site-packages/ipykernel_launcher.py:4: RuntimeWarning: invalid value encountered in log10\n",
      "  after removing the cwd from sys.path.\n",
      "/Users/oleksandrsavsunenko/anaconda3/envs/data/lib/python3.7/site-packages/ipykernel_launcher.py:6: RuntimeWarning: divide by zero encountered in double_scalars\n",
      "  \n",
      "/Users/oleksandrsavsunenko/anaconda3/envs/data/lib/python3.7/site-packages/ipykernel_launcher.py:6: RuntimeWarning: invalid value encountered in double_scalars\n",
      "  \n",
      "<string>:1: RuntimeWarning: invalid value encountered in double_scalars\n",
      "<string>:1: RuntimeWarning: invalid value encountered in double_scalars\n",
      "/Users/oleksandrsavsunenko/anaconda3/envs/data/lib/python3.7/site-packages/ipykernel_launcher.py:4: RuntimeWarning: invalid value encountered in log10\n",
      "  after removing the cwd from sys.path.\n",
      "<string>:1: RuntimeWarning: invalid value encountered in double_scalars\n"
     ]
    },
    {
     "name": "stdout",
     "output_type": "stream",
     "text": [
      "   \t      \t                 fitness                 \t              size             \n",
      "   \t      \t-----------------------------------------\t-------------------------------\n",
      "gen\tnevals\tavg       \tmax  \tmin\tstd      \tavg    \tmax\tmin\tstd    \n",
      "0  \t300   \t0.00666333\t0.056\t0  \t0.0107757\t41.5533\t538\t2  \t88.9307\n",
      "1  \t214   \t0.0173667 \t0.086\t0  \t0.0140603\t10.8933\t204\t1  \t19.6896\n",
      "2  \t184   \t0.0291867 \t0.091\t0  \t0.0194219\t10.8133\t181\t1  \t15.9074\n",
      "3  \t198   \t0.0444167 \t0.104\t0  \t0.0264195\t14.2667\t61 \t1  \t16.5304\n",
      "4  \t190   \t0.0610033 \t0.104\t0  \t0.0325607\t16.55  \t64 \t1  \t17.6845\n",
      "5  \t189   \t0.07303   \t0.106\t0  \t0.0333366\t19.3133\t74 \t1  \t17.9702\n",
      "6  \t216   \t0.0819633 \t0.108\t0  \t0.0313318\t26.9733\t82 \t1  \t21.9014\n",
      "7  \t196   \t0.0899633 \t0.108\t0  \t0.0279885\t42.67  \t119\t1  \t22.8925\n",
      "8  \t211   \t0.0900233 \t0.108\t0  \t0.0292155\t38.4967\t126\t1  \t26.5468\n",
      "9  \t203   \t0.0884233 \t0.112\t0  \t0.032093 \t31.5933\t105\t1  \t21.9885\n",
      "10 \t207   \t0.0950333 \t0.114\t0  \t0.0263489\t37.87  \t84 \t1  \t14.3462\n",
      "11 \t183   \t0.100687  \t0.125\t0  \t0.0216808\t42.33  \t84 \t1  \t13.1616\n",
      "12 \t183   \t0.103093  \t0.125\t0.004\t0.0240335\t48.7167\t94 \t10 \t15.6022\n",
      "13 \t198   \t0.105997  \t0.125\t0    \t0.025159 \t54.6967\t113\t3  \t18.2533\n",
      "14 \t177   \t0.110587  \t0.153\t0    \t0.0241933\t56.8933\t111\t7  \t22.5198\n"
     ]
    }
   ],
   "source": [
    "pool = multiprocessing.Pool(processes=4)\n",
    "toolbox.register(\"map\", pool.map)\n",
    "pop = toolbox.population(n=300)\n",
    "hof = tools.HallOfFame(1)\n",
    "pop, log = algorithms.eaSimple(pop, toolbox, 0.5, 0.3, 400, stats=mstats,\n",
    "                                   halloffame=hof, verbose=True)"
   ]
  },
  {
   "cell_type": "code",
   "execution_count": null,
   "metadata": {},
   "outputs": [],
   "source": [
    "q =toolbox.compile(hof[0])"
   ]
  },
  {
   "cell_type": "code",
   "execution_count": 179,
   "metadata": {},
   "outputs": [],
   "source": [
    "results = []\n",
    "for i in range(1000,1300):\n",
    "    r = q(*digits.data[i])\n",
    "    for j in range(0,9):\n",
    "        if (r / 10**j)>0.3 and (r / 10**j)<0.7:\n",
    "            answer=j\n",
    "            break\n",
    "        answer=0\n",
    "    if answer == digits.target[i]:\n",
    "        results.append(1)\n",
    "    else:\n",
    "        results.append(0)"
   ]
  },
  {
   "cell_type": "code",
   "execution_count": 180,
   "metadata": {},
   "outputs": [
    {
     "data": {
      "text/plain": [
       "0.17"
      ]
     },
     "execution_count": 180,
     "metadata": {},
     "output_type": "execute_result"
    }
   ],
   "source": [
    "np.mean(results)"
   ]
  },
  {
   "cell_type": "code",
   "execution_count": null,
   "metadata": {},
   "outputs": [],
   "source": []
  }
 ],
 "metadata": {
  "kernelspec": {
   "display_name": "Python 3",
   "language": "python",
   "name": "python3"
  },
  "language_info": {
   "codemirror_mode": {
    "name": "ipython",
    "version": 3
   },
   "file_extension": ".py",
   "mimetype": "text/x-python",
   "name": "python",
   "nbconvert_exporter": "python",
   "pygments_lexer": "ipython3",
   "version": "3.6.8"
  }
 },
 "nbformat": 4,
 "nbformat_minor": 2
}
