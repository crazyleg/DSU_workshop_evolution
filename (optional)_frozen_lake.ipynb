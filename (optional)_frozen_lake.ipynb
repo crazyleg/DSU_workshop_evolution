{
 "cells": [
  {
   "cell_type": "code",
   "execution_count": 1,
   "metadata": {},
   "outputs": [
    {
     "ename": "ModuleNotFoundError",
     "evalue": "No module named 'gym'",
     "output_type": "error",
     "traceback": [
      "\u001b[0;31m---------------------------------------------------------------------------\u001b[0m",
      "\u001b[0;31mModuleNotFoundError\u001b[0m                       Traceback (most recent call last)",
      "\u001b[0;32m<ipython-input-1-a30504bc0ab7>\u001b[0m in \u001b[0;36m<module>\u001b[0;34m\u001b[0m\n\u001b[0;32m----> 1\u001b[0;31m \u001b[0;32mimport\u001b[0m \u001b[0mgym\u001b[0m\u001b[0;34m\u001b[0m\u001b[0;34m\u001b[0m\u001b[0m\n\u001b[0m\u001b[1;32m      2\u001b[0m \u001b[0;32mimport\u001b[0m \u001b[0mnumpy\u001b[0m \u001b[0;32mas\u001b[0m \u001b[0mnp\u001b[0m\u001b[0;34m\u001b[0m\u001b[0;34m\u001b[0m\u001b[0m\n\u001b[1;32m      3\u001b[0m \u001b[0;32mimport\u001b[0m \u001b[0mtime\u001b[0m\u001b[0;34m\u001b[0m\u001b[0;34m\u001b[0m\u001b[0m\n\u001b[1;32m      4\u001b[0m \u001b[0;32mfrom\u001b[0m \u001b[0mIPython\u001b[0m\u001b[0;34m.\u001b[0m\u001b[0mdisplay\u001b[0m \u001b[0;32mimport\u001b[0m \u001b[0mclear_output\u001b[0m\u001b[0;34m\u001b[0m\u001b[0;34m\u001b[0m\u001b[0m\n\u001b[1;32m      5\u001b[0m \u001b[0;32mfrom\u001b[0m \u001b[0mgym\u001b[0m \u001b[0;32mimport\u001b[0m \u001b[0mwrappers\u001b[0m\u001b[0;34m\u001b[0m\u001b[0;34m\u001b[0m\u001b[0m\n",
      "\u001b[0;31mModuleNotFoundError\u001b[0m: No module named 'gym'"
     ]
    }
   ],
   "source": [
    "import gym\n",
    "import numpy as np\n",
    "import time\n",
    "from IPython.display import clear_output\n",
    "from gym import wrappers\n",
    "env = gym.make(\"FrozenLake-v0\")\n",
    "env = wrappers.Monitor(env, '/tmp/cartpole-experiment-5')\n",
    "env.reset();\n",
    "n_states = env.observation_space.n\n",
    "n_actions = env.action_space.n\n",
    "n_epochs = 100 #how many cycles to make\n",
    "pool_size = 100 #how many policies to maintain\n",
    "import random\n",
    "from deap import base\n",
    "from deap import creator\n",
    "from deap import tools\n",
    "creator.create(\"FitnessMax\", base.Fitness, weights=(1.0,))\n",
    "creator.create(\"Individual\", list, fitness=creator.FitnessMax)\n",
    "toolbox = base.Toolbox()\n",
    "toolbox.register(\"attr_bool\", random.randint, 0, n_actions-1)\n",
    "toolbox.register(\"individual\", tools.initRepeat, creator.Individual, toolbox.attr_bool, n_states)\n",
    "toolbox.register(\"population\", tools.initRepeat, list, toolbox.individual)\n",
    "\n",
    "# Evaruate Method\n",
    "def sample_reward(env, policy, t_max=100):\n",
    "    s = env.reset()\n",
    "    total_reward = 0\n",
    "    for _ in range(t_max):\n",
    "        s, reward, is_done, _ = env.step(policy[s])\n",
    "        total_reward += reward\n",
    "        if is_done:\n",
    "            break\n",
    "    return total_reward\n",
    "\n",
    "def evaluate(policy, n_times=100):\n",
    "    rewards = [sample_reward(env, policy) for _ in range(n_times)]\n",
    "    return float(np.mean(rewards)),\n",
    "\n",
    "toolbox.register(\"evaluate\", evaluate)\n",
    "toolbox.register(\"mate\", tools.cxUniform, indpb=0.5)\n",
    "toolbox.register(\"mutate\", tools.mutShuffleIndexes, indpb=0.1)\n",
    "toolbox.register(\"select\", tools.selBest)\n",
    "\n",
    "##############\n",
    "# Initialize\n",
    "##############\n",
    "pool = toolbox.population(n=pool_size)\n",
    "CXPB, MUTPB= 0.5, 0.1\n",
    "\n",
    "fitnesses = list(map(toolbox.evaluate, pool))\n",
    "for policy, fit in zip(pool, fitnesses):\n",
    "    policy.fitness.values = fit\n",
    "\n",
    "for g in range(n_epochs):\n",
    "    print(\"-- %i th Generation --\" % g)\n",
    "\n",
    "    ##############\n",
    "    # Select\n",
    "    ##############\n",
    "    offspring = toolbox.select(pool, len(pool))\n",
    "    offspring = list(map(toolbox.clone, offspring))\n",
    "\n",
    "    ##############\n",
    "    # crossover\n",
    "    ##############\n",
    "    for child1, child2 in zip(offspring[::2], offspring[1::2]):\n",
    "        if random.random() < CXPB:\n",
    "            toolbox.mate(child1, child2)\n",
    "            del child1.fitness.values\n",
    "            del child2.fitness.values\n",
    "\n",
    "    ##############\n",
    "    # mutation\n",
    "    ##############\n",
    "    for mutant in offspring:\n",
    "        if random.random() < MUTPB:\n",
    "            toolbox.mutate(mutant)\n",
    "            del mutant.fitness.values\n",
    "\n",
    "    invalid_policy = [policy for policy in offspring if not policy.fitness.valid]\n",
    "    fitnesses = map(toolbox.evaluate, invalid_policy)\n",
    "    for policy, fit in zip(invalid_policy, fitnesses):\n",
    "        policy.fitness.values = fit\n",
    "\n",
    "    pool[:] = offspring\n",
    "        \n",
    "    best_score = tools.selBest(pool, 1)[0]\n",
    "    print(\"best score: %s, %s\" % (best_score, \n",
    "                                  best_score.fitness.values))\n",
    "\n",
    "env.close()"
   ]
  },
  {
   "cell_type": "code",
   "execution_count": 2,
   "metadata": {},
   "outputs": [
    {
     "name": "stdout",
     "output_type": "stream",
     "text": [
      "Collecting gym\n",
      "Requirement already satisfied: numpy>=1.10.4 in /Users/oleksandrsavsunenko/anaconda3/envs/dsu_workshop/lib/python3.7/site-packages (from gym) (1.16.2)\n",
      "Requirement already satisfied: requests>=2.0 in /Users/oleksandrsavsunenko/anaconda3/envs/dsu_workshop/lib/python3.7/site-packages (from gym) (2.21.0)\n",
      "Collecting pyglet>=1.2.0 (from gym)\n",
      "  Using cached https://files.pythonhosted.org/packages/1c/fc/dad5eaaab68f0c21e2f906a94ddb98175662cc5a654eee404d59554ce0fa/pyglet-1.3.2-py2.py3-none-any.whl\n",
      "Requirement already satisfied: six in /Users/oleksandrsavsunenko/anaconda3/envs/dsu_workshop/lib/python3.7/site-packages (from gym) (1.12.0)\n",
      "Requirement already satisfied: scipy in /Users/oleksandrsavsunenko/anaconda3/envs/dsu_workshop/lib/python3.7/site-packages (from gym) (1.2.1)\n",
      "Requirement already satisfied: urllib3<1.25,>=1.21.1 in /Users/oleksandrsavsunenko/anaconda3/envs/dsu_workshop/lib/python3.7/site-packages (from requests>=2.0->gym) (1.24.1)\n",
      "Requirement already satisfied: certifi>=2017.4.17 in /Users/oleksandrsavsunenko/anaconda3/envs/dsu_workshop/lib/python3.7/site-packages (from requests>=2.0->gym) (2019.3.9)\n",
      "Requirement already satisfied: chardet<3.1.0,>=3.0.2 in /Users/oleksandrsavsunenko/anaconda3/envs/dsu_workshop/lib/python3.7/site-packages (from requests>=2.0->gym) (3.0.4)\n",
      "Requirement already satisfied: idna<2.9,>=2.5 in /Users/oleksandrsavsunenko/anaconda3/envs/dsu_workshop/lib/python3.7/site-packages (from requests>=2.0->gym) (2.8)\n",
      "Collecting future (from pyglet>=1.2.0->gym)\n",
      "Installing collected packages: future, pyglet, gym\n",
      "Successfully installed future-0.17.1 gym-0.12.0 pyglet-1.3.2\n"
     ]
    }
   ],
   "source": [
    "!pip install gym"
   ]
  },
  {
   "cell_type": "code",
   "execution_count": 43,
   "metadata": {},
   "outputs": [],
   "source": [
    "s = env.reset()\n",
    "total_reward = 0\n",
    "for _ in range(100):\n",
    "    s, reward, is_done, _ = env.step(policy[s])\n",
    "    env.render()\n",
    "    time.sleep(1)\n",
    "    clear_output()\n",
    "    total_reward += reward\n",
    "    if is_done:\n",
    "        break"
   ]
  },
  {
   "cell_type": "code",
   "execution_count": null,
   "metadata": {},
   "outputs": [],
   "source": []
  }
 ],
 "metadata": {
  "kernelspec": {
   "display_name": "Python 3",
   "language": "python",
   "name": "python3"
  },
  "language_info": {
   "codemirror_mode": {
    "name": "ipython",
    "version": 3
   },
   "file_extension": ".py",
   "mimetype": "text/x-python",
   "name": "python",
   "nbconvert_exporter": "python",
   "pygments_lexer": "ipython3",
   "version": "3.6.8"
  }
 },
 "nbformat": 4,
 "nbformat_minor": 2
}
